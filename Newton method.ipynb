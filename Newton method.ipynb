{
 "cells": [
  {
   "cell_type": "code",
   "execution_count": 16,
   "metadata": {
    "collapsed": true
   },
   "outputs": [],
   "source": [
    "import math\n",
    "\n",
    "\n",
    "def newtonraphson(f, df, x0, SIG=0.0000001, REP=1000000):\n",
    "    \"\"\"\n",
    "    A Function that returns solution by newton raphson method\n",
    "    Note an easier option is to use scipy.optimize.newton\n",
    "    \n",
    "    Parameters\n",
    "    ------------------------------------------------------------\n",
    "    f   - funtion\n",
    "    df  - derivative of the function\n",
    "    x0  - initial value\n",
    "    SIG - \n",
    "    REP - Max number of iteration\n",
    "    ------------------------------------------------------------\n",
    "    \"\"\"\n",
    "    n = 1\n",
    "    while n < REP:\n",
    "        x1 = x0 - (f(x0)/df(x0))\n",
    "        if x1 - x0 <= SIG:\n",
    "            return x1\n",
    "        else:\n",
    "            x0 = x1\n",
    "    return False"
   ]
  },
  {
   "cell_type": "code",
   "execution_count": 17,
   "metadata": {
    "collapsed": true
   },
   "outputs": [],
   "source": [
    "def func(x):\n",
    "    \"\"\"\n",
    "    f(x) = x^3 - x - 2\n",
    "    \"\"\"\n",
    "    return math.pow(x,3) - x - 2"
   ]
  },
  {
   "cell_type": "code",
   "execution_count": 18,
   "metadata": {
    "collapsed": true
   },
   "outputs": [],
   "source": [
    "def dfunc(x):\n",
    "    \"\"\"\n",
    "    derivative of f(x) = x^3 - x - 2\n",
    "    df(x) = 3x^2 - 1\n",
    "    \"\"\"\n",
    "    return 3*math.pow(x,2) -1"
   ]
  },
  {
   "cell_type": "code",
   "execution_count": 19,
   "metadata": {
    "collapsed": false
   },
   "outputs": [
    {
     "data": {
      "text/plain": [
       "1.6363636363636362"
      ]
     },
     "execution_count": 19,
     "metadata": {},
     "output_type": "execute_result"
    }
   ],
   "source": [
    "newtonraphson(func, dfunc, 2)"
   ]
  },
  {
   "cell_type": "code",
   "execution_count": 20,
   "metadata": {
    "collapsed": true
   },
   "outputs": [],
   "source": [
    "# using scipy lets verify\n",
    "\n",
    "from scipy import optimize"
   ]
  },
  {
   "cell_type": "code",
   "execution_count": 21,
   "metadata": {
    "collapsed": false
   },
   "outputs": [
    {
     "data": {
      "text/plain": [
       "1.5213797068045676"
      ]
     },
     "execution_count": 21,
     "metadata": {},
     "output_type": "execute_result"
    }
   ],
   "source": [
    "optimize.newton(func, 2, dfunc)"
   ]
  },
  {
   "cell_type": "code",
   "execution_count": null,
   "metadata": {
    "collapsed": true
   },
   "outputs": [],
   "source": []
  }
 ],
 "metadata": {
  "anaconda-cloud": {},
  "kernelspec": {
   "display_name": "Python [Root]",
   "language": "python",
   "name": "Python [Root]"
  },
  "language_info": {
   "codemirror_mode": {
    "name": "ipython",
    "version": 3
   },
   "file_extension": ".py",
   "mimetype": "text/x-python",
   "name": "python",
   "nbconvert_exporter": "python",
   "pygments_lexer": "ipython3",
   "version": "3.5.2"
  }
 },
 "nbformat": 4,
 "nbformat_minor": 0
}
