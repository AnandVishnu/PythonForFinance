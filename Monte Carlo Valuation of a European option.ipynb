{
 "cells": [
  {
   "cell_type": "markdown",
   "metadata": {},
   "source": [
    "** Monte carlo based valuation of European option **\n",
    "\n",
    "dSj = μj Sj dt + sigma Sj dZj\n",
    "\n",
    "\n",
    "3 different approaches could be used\n",
    "1. Pure Python\n",
    "2. Vectorized NumPy\n",
    "3. Fully Vectorized NumPy"
   ]
  },
  {
   "cell_type": "markdown",
   "metadata": {},
   "source": [
    "We will use Euler descretization of BSM SDE"
   ]
  },
  {
   "cell_type": "markdown",
   "metadata": {},
   "source": [
    "Model is parameterize by\n",
    "\n",
    "S0 = 100\n",
    "K = 105\n",
    "T = 1.0\n",
    "r = 0.05\n",
    "sigma = 0.2"
   ]
  },
  {
   "cell_type": "code",
   "execution_count": 1,
   "metadata": {
    "collapsed": true
   },
   "outputs": [],
   "source": [
    "def bsm_call_value(S0, K, T, r, sigma):\n",
    "    from math import log, sqrt, exp\n",
    "    from scipy import stats\n",
    "    \n",
    "    S0 = float(S0)\n",
    "    d1 = (log(S0/K) + (r + 0.5 * sigma ** 2) * T) / (sigma * sqrt(T))\n",
    "    d2 = (log(S0/K) + (r - 0.5 * sigma ** 2) * T) / (sigma * sqrt(T))\n",
    "    \n",
    "    value = (S0 * stats.norm.cdf(d1, 0.0, 1.0)) - (K * exp(-r * T) * stats.norm.cdf(d2, 0.0, 1.0))\n",
    "    return value"
   ]
  },
  {
   "cell_type": "code",
   "execution_count": 2,
   "metadata": {
    "collapsed": true
   },
   "outputs": [],
   "source": [
    "S0 = 100\n",
    "K = 105\n",
    "T = 1.0\n",
    "r = 0.05\n",
    "sigma = 0.2"
   ]
  },
  {
   "cell_type": "code",
   "execution_count": 3,
   "metadata": {
    "collapsed": false
   },
   "outputs": [
    {
     "data": {
      "text/plain": [
       "8.0213522351431763"
      ]
     },
     "execution_count": 3,
     "metadata": {},
     "output_type": "execute_result"
    }
   ],
   "source": [
    "C0 = bsm_call_value(S0, K, T, r, sigma)\n",
    "C0"
   ]
  },
  {
   "cell_type": "markdown",
   "metadata": {},
   "source": [
    "** PURE PYTHON MONTE CARLO SIMULATION OF CALL PRICES **"
   ]
  },
  {
   "cell_type": "code",
   "execution_count": 4,
   "metadata": {
    "collapsed": false
   },
   "outputs": [
    {
     "name": "stdout",
     "output_type": "stream",
     "text": [
      "European Option Value   7.999\n",
      "Duration in seconds  20.097\n"
     ]
    }
   ],
   "source": [
    "from time import time\n",
    "from math import exp, sqrt, log\n",
    "from random import gauss, seed\n",
    "\n",
    "seed(20000)\n",
    "t0 = time()\n",
    "#additional parameters\n",
    "M = 50 # number of steps\n",
    "dt = T / M\n",
    "I = 250000 # number of paths\n",
    "\n",
    "# Simulating I paths with M time steps\n",
    "S = []\n",
    "\n",
    "\n",
    "for i in range(I):\n",
    "    path = []\n",
    "    for t in range(M + 1):\n",
    "        if t == 0:\n",
    "            path.append(S0)\n",
    "        else:\n",
    "            z = gauss(0.0, 1.0) # gaussian shock\n",
    "            St = path[t-1] * exp((r - 0.5 * sigma ** 2) * dt + sigma * sqrt(dt) * z) # Euler Descretization\n",
    "            path.append(St)\n",
    "    S.append(path)\n",
    "\n",
    "call_value = exp(-r * T) * sum([max(path[-1] - K, 0) for path in S]) / I\n",
    "tpy = time()-t0\n",
    "\n",
    "print('European Option Value %7.3f' % call_value)\n",
    "print('Duration in seconds %7.3f' % tpy)"
   ]
  },
  {
   "cell_type": "markdown",
   "metadata": {
    "collapsed": true
   },
   "source": [
    "**Vectorization with NumPy**\n"
   ]
  },
  {
   "cell_type": "code",
   "execution_count": 6,
   "metadata": {
    "collapsed": false
   },
   "outputs": [
    {
     "name": "stdout",
     "output_type": "stream",
     "text": [
      "European Option Value   8.050\n",
      "Duration in seconds   0.656\n"
     ]
    }
   ],
   "source": [
    "import math\n",
    "import numpy as np\n",
    "from time import time\n",
    "\n",
    "np.random.seed(200000)\n",
    "t0 = time()\n",
    "\n",
    "# Parameters\n",
    "S0 = 100.; K -105.; T =1.0; r = 0.05; sigma =0.2\n",
    "M = 50; dt = T /M; I = 250000\n",
    "\n",
    "# Simulating I Paths with M time steps\n",
    "S = np.zeros((M + 1, I))\n",
    "S[0] = S0\n",
    "\n",
    "for t in range(1, M+1):\n",
    "    z = np.random.standard_normal(I) # pseudorandom numbers\n",
    "    S[t] = S[t-1] * np.exp((r-0.5 * sigma ** 2) * dt\n",
    "                        + sigma * math.sqrt(dt) * z)\n",
    "\n",
    "call_value = math.exp(-r * T) * np.sum(np.maximum(S[-1] -K, 0)) / I\n",
    "tnpy = time()-t0\n",
    "\n",
    "print('European Option Value %7.3f' % call_value)\n",
    "print('Duration in seconds %7.3f' % tnpy)"
   ]
  },
  {
   "cell_type": "markdown",
   "metadata": {},
   "source": [
    "\n",
    "** Full Vectorization with Log Euler Scheme **"
   ]
  },
  {
   "cell_type": "code",
   "execution_count": 9,
   "metadata": {
    "collapsed": false
   },
   "outputs": [
    {
     "name": "stdout",
     "output_type": "stream",
     "text": [
      "European Option Value   8.166\n",
      "Duration in seconds   0.780\n"
     ]
    }
   ],
   "source": [
    "import math\n",
    "from numpy import *\n",
    "from time import time\n",
    "\n",
    "random.seed(20000)\n",
    "t0 = time()\n",
    "\n",
    "\n",
    "# Parameters\n",
    "S0 = 100.; K -105.; T =1.0; r = 0.05; sigma =0.2\n",
    "M = 50; dt = T /M; I = 250000\n",
    "\n",
    "# simulating I paths with M time steps\n",
    "S = S0 * exp(cumsum(( r - 0.5 * sigma ** 2) * dt\n",
    "                   + sigma * math.sqrt(dt)\n",
    "                   * random.standard_normal((M + 1, I)), axis=0))\n",
    "S[0] = S0\n",
    "\n",
    "call_value = math.exp(-r * T ) * sum (maximum(S[-1]-K, 0)) / I\n",
    "tnpyl = time()-t0\n",
    "\n",
    "print('European Option Value %7.3f' % call_value)\n",
    "print('Duration in seconds %7.3f' % tnpyl)"
   ]
  },
  {
   "cell_type": "code",
   "execution_count": 11,
   "metadata": {
    "collapsed": false
   },
   "outputs": [
    {
     "data": {
      "text/plain": [
       "<matplotlib.text.Text at 0x10d839908>"
      ]
     },
     "execution_count": 11,
     "metadata": {},
     "output_type": "execute_result"
    },
    {
     "data": {
      "image/png": "[encoded data removed]",
      "text/plain": [
       "<matplotlib.figure.Figure at 0x10d78ca20>"
      ]
     },
     "metadata": {},
     "output_type": "display_data"
    }
   ],
   "source": [
    "import matplotlib.pyplot as plt\n",
    "%matplotlib inline\n",
    "plt.plot(S[:, :10])\n",
    "plt.grid(True)\n",
    "plt.xlabel('time step')\n",
    "plt.ylabel('index level')\n"
   ]
  },
  {
   "cell_type": "code",
   "execution_count": 12,
   "metadata": {
    "collapsed": false
   },
   "outputs": [
    {
     "data": {
      "text/plain": [
       "<matplotlib.text.Text at 0x10da0a940>"
      ]
     },
     "execution_count": 12,
     "metadata": {},
     "output_type": "execute_result"
    },
    {
     "data": {
      "image/png": "[encoded data removed]",
      "text/plain": [
       "<matplotlib.figure.Figure at 0x10d78c940>"
      ]
     },
     "metadata": {},
     "output_type": "display_data"
    }
   ],
   "source": [
    "plt.hist(S[-1], bins=50)\n",
    "plt.grid(True)\n",
    "plt.xlabel('index level')\n",
    "plt.ylabel('frequency')"
   ]
  },
  {
   "cell_type": "code",
   "execution_count": 13,
   "metadata": {
    "collapsed": false
   },
   "outputs": [
    {
     "data": {
      "text/plain": [
       "(0, 50000)"
      ]
     },
     "execution_count": 13,
     "metadata": {},
     "output_type": "execute_result"
    },
    {
     "data": {
      "image/png": "[encoded data removed]",
      "text/plain": [
       "<matplotlib.figure.Figure at 0x10d996b70>"
      ]
     },
     "metadata": {},
     "output_type": "display_data"
    }
   ],
   "source": [
    "plt.hist(np.maximum(S[-1]-K, 0), bins=50)\n",
    "plt.grid(True)\n",
    "plt.xlabel('option value')\n",
    "plt.ylabel('frequency')\n",
    "plt.ylim(0, 50000)"
   ]
  },
  {
   "cell_type": "code",
   "execution_count": 14,
   "metadata": {
    "collapsed": false
   },
   "outputs": [
    {
     "data": {
      "text/plain": [
       "array([ 108.02208929,  117.19970121,  103.16926873, ...,  181.00965828,\n",
       "         91.1431122 ,  159.00478614])"
      ]
     },
     "execution_count": 14,
     "metadata": {},
     "output_type": "execute_result"
    }
   ],
   "source": [
    "S[-1] # final values"
   ]
  },
  {
   "cell_type": "code",
   "execution_count": 15,
   "metadata": {
    "collapsed": false
   },
   "outputs": [
    {
     "data": {
      "text/plain": [
       "133533"
      ]
     },
     "execution_count": 15,
     "metadata": {},
     "output_type": "execute_result"
    }
   ],
   "source": [
    "# majority of the call options expires worthless\n",
    "sum(S[-1] < K)"
   ]
  },
  {
   "cell_type": "code",
   "execution_count": null,
   "metadata": {
    "collapsed": true
   },
   "outputs": [],
   "source": []
  }
 ],
 "metadata": {
  "anaconda-cloud": {},
  "kernelspec": {
   "display_name": "Python [Root]",
   "language": "python",
   "name": "Python [Root]"
  },
  "language_info": {
   "codemirror_mode": {
    "name": "ipython",
    "version": 3
   },
   "file_extension": ".py",
   "mimetype": "text/x-python",
   "name": "python",
   "nbconvert_exporter": "python",
   "pygments_lexer": "ipython3",
   "version": "3.5.2"
  }
 },
 "nbformat": 4,
 "nbformat_minor": 0
}
